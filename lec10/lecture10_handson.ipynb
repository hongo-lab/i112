{
 "cells": [
  {
   "cell_type": "markdown",
   "id": "eea0e1f8",
   "metadata": {},
   "source": [
    "# Lecture 10 Hands-on: Python Basics, Visualization, and Machine Learning"
   ]
  },
  {
   "cell_type": "markdown",
   "id": "1fa5561e",
   "metadata": {},
   "source": [
    "## 1. Basic Python: Variables and Control"
   ]
  },
  {
   "cell_type": "code",
   "execution_count": null,
   "id": "7b4cae39",
   "metadata": {},
   "outputs": [],
   "source": [
    "a = 3\n",
    "b = 4\n",
    "print(\"a + b =\", a + b)\n",
    "\n",
    "for i in range(5):\n",
    "    if i % 2 == 0:\n",
    "        print(f\"{i} is even\")"
   ]
  },
  {
   "cell_type": "markdown",
   "id": "2c1d4885",
   "metadata": {},
   "source": [
    "## 2. NumPy Example"
   ]
  },
  {
   "cell_type": "code",
   "execution_count": null,
   "id": "5a96b9f5",
   "metadata": {},
   "outputs": [],
   "source": [
    "import numpy as np\n",
    "x = np.linspace(0, 2 * np.pi, 100)\n",
    "y = np.sin(x)\n",
    "print(x[:5])"
   ]
  },
  {
   "cell_type": "markdown",
   "id": "2dc66bd3",
   "metadata": {},
   "source": [
    "## 3. Matplotlib Plot"
   ]
  },
  {
   "cell_type": "code",
   "execution_count": null,
   "id": "c7394465",
   "metadata": {},
   "outputs": [],
   "source": [
    "import matplotlib.pyplot as plt\n",
    "\n",
    "plt.plot(x, y)\n",
    "plt.title(\"sin(x)\")\n",
    "plt.xlabel(\"x\")\n",
    "plt.ylabel(\"y\")\n",
    "plt.grid(True)\n",
    "plt.show()"
   ]
  },
  {
   "cell_type": "markdown",
   "id": "8735aac8",
   "metadata": {},
   "source": [
    "## 4. File I/O"
   ]
  },
  {
   "cell_type": "code",
   "execution_count": null,
   "id": "e7195af3",
   "metadata": {},
   "outputs": [],
   "source": [
    "filename = 'example.txt'\n",
    "with open(filename, 'w') as f:\n",
    "    f.write(\"This is a file write example.\\nSecond line.\")\n",
    "\n",
    "with open(filename, 'r') as f:\n",
    "    content = f.read()\n",
    "\n",
    "print(\"File contents:\\n\", content)"
   ]
  },
  {
   "cell_type": "markdown",
   "id": "fb77d91a",
   "metadata": {},
   "source": [
    "## 5. Classification with scikit-learn (Iris Dataset)"
   ]
  },
  {
   "cell_type": "code",
   "execution_count": null,
   "id": "26f4118e",
   "metadata": {},
   "outputs": [],
   "source": [
    "from sklearn.datasets import load_iris\n",
    "from sklearn.model_selection import train_test_split\n",
    "from sklearn.svm import SVC\n",
    "from sklearn.metrics import accuracy_score\n",
    "\n",
    "iris = load_iris()\n",
    "X, y = iris.data, iris.target\n",
    "X_train, X_test, y_train, y_test = train_test_split(X, y, random_state=0)\n",
    "\n",
    "clf = SVC()\n",
    "clf.fit(X_train, y_train)\n",
    "y_pred = clf.predict(X_test)\n",
    "print(\"Accuracy:\", accuracy_score(y_test, y_pred))"
   ]
  },
  {
   "cell_type": "markdown",
   "id": "691f1c77",
   "metadata": {},
   "source": [
    "## 6. Regression with scikit-learn (California Housing)"
   ]
  },
  {
   "cell_type": "code",
   "execution_count": null,
   "id": "f039f3fe",
   "metadata": {},
   "outputs": [],
   "source": [
    "from sklearn.datasets import fetch_california_housing\n",
    "from sklearn.linear_model import LinearRegression\n",
    "from sklearn.metrics import mean_squared_error\n",
    "\n",
    "X, y = fetch_california_housing(return_X_y=True)\n",
    "X_train, X_test, y_train, y_test = train_test_split(X, y, random_state=0)\n",
    "\n",
    "reg = LinearRegression()\n",
    "reg.fit(X_train, y_train)\n",
    "y_pred = reg.predict(X_test)\n",
    "print(\"Mean Squared Error:\", mean_squared_error(y_test, y_pred))"
   ]
  },
  {
   "cell_type": "markdown",
   "id": "0f0e8643",
   "metadata": {},
   "source": [
    "## 7. ROC Curve with scikit-learn (Breast Cancer Dataset)"
   ]
  },
  {
   "cell_type": "code",
   "execution_count": null,
   "id": "26b5049f",
   "metadata": {},
   "outputs": [],
   "source": [
    "from sklearn.datasets import load_breast_cancer\n",
    "from sklearn.metrics import roc_curve, auc\n",
    "\n",
    "X, y = load_breast_cancer(return_X_y=True)\n",
    "X_train, X_test, y_train, y_test = train_test_split(X, y, random_state=0)\n",
    "\n",
    "clf = SVC(probability=True)\n",
    "clf.fit(X_train, y_train)\n",
    "y_score = clf.predict_proba(X_test)[:, 1]\n",
    "\n",
    "fpr, tpr, _ = roc_curve(y_test, y_score)\n",
    "roc_auc = auc(fpr, tpr)\n",
    "\n",
    "plt.plot(fpr, tpr, label=f\"AUC = {roc_auc:.2f}\")\n",
    "plt.plot([0, 1], [0, 1], 'k--')\n",
    "plt.xlabel(\"False Positive Rate\")\n",
    "plt.ylabel(\"True Positive Rate\")\n",
    "plt.title(\"ROC Curve (Breast Cancer)\")\n",
    "plt.legend()\n",
    "plt.grid(True)\n",
    "plt.show()"
   ]
  }
 ],
 "metadata": {},
 "nbformat": 4,
 "nbformat_minor": 5
}
