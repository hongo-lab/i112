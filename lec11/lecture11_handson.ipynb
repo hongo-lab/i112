{
 "cells": [
  {
   "cell_type": "markdown",
   "id": "176c1232",
   "metadata": {},
   "source": [
    "# Lecture 11 Hands-on: Numerical Differentiation and Monte Carlo Estimation"
   ]
  },
  {
   "cell_type": "markdown",
   "id": "0081a990",
   "metadata": {},
   "source": [
    "## Exercise 1: Numerical Differentiation Error"
   ]
  },
  {
   "cell_type": "code",
   "execution_count": null,
   "id": "2b2b6cce",
   "metadata": {},
   "outputs": [],
   "source": [
    "import numpy as np\n",
    "\n",
    "h = 1e-4\n",
    "true_derivative = 2  # for f(x) = x^2 at x = 1\n",
    "\n",
    "def func(x):\n",
    "    return x ** 2\n",
    "\n",
    "def front_diff(f, x, h):\n",
    "    return (f(x + h) - f(x)) / h\n",
    "\n",
    "def back_diff(f, x, h):\n",
    "    return (f(x) - f(x - h)) / h\n",
    "\n",
    "def center_diff(f, x, h):\n",
    "    return (f(x + h) - f(x - h)) / (2 * h)\n",
    "\n",
    "x = 1.0\n",
    "for method, diff_func in [\n",
    "    (\"Forward\", front_diff),\n",
    "    (\"Backward\", back_diff),\n",
    "    (\"Central\", center_diff),\n",
    "]:\n",
    "    approx = diff_func(func, x, h)\n",
    "    error = abs(approx - true_derivative)\n",
    "    print(f\"{method} difference: value = {approx:.8f}, error = {error:.2e}\")"
   ]
  },
  {
   "cell_type": "markdown",
   "id": "2d060a80",
   "metadata": {},
   "source": [
    "## Exercise 2: Monte Carlo Estimation of π with Visualization"
   ]
  },
  {
   "cell_type": "code",
   "execution_count": null,
   "id": "82be1fa6",
   "metadata": {},
   "outputs": [],
   "source": [
    "import random\n",
    "import matplotlib.pyplot as plt\n",
    "\n",
    "def get_pi_and_points(N):\n",
    "    inside_x, inside_y = [], []\n",
    "    outside_x, outside_y = [], []\n",
    "    in_circle = 0\n",
    "    for _ in range(N):\n",
    "        x = random.random()\n",
    "        y = random.random()\n",
    "        if x**2 + y**2 <= 1:\n",
    "            in_circle += 1\n",
    "            inside_x.append(x)\n",
    "            inside_y.append(y)\n",
    "        else:\n",
    "            outside_x.append(x)\n",
    "            outside_y.append(y)\n",
    "    pi = 4 * in_circle / N\n",
    "    return pi, inside_x, inside_y, outside_x, outside_y"
   ]
  },
  {
   "cell_type": "code",
   "execution_count": null,
   "id": "a62c5466",
   "metadata": {},
   "outputs": [],
   "source": [
    "N = 1000\n",
    "pi_val, inside_x, inside_y, outside_x, outside_y = get_pi_and_points(N)\n",
    "print(f\"Estimated π with {N} samples: {pi_val:.6f}\")\n",
    "\n",
    "plt.figure(figsize=(6, 6))\n",
    "plt.scatter(inside_x, inside_y, s=5, color='blue', label='Inside Circle')\n",
    "plt.scatter(outside_x, outside_y, s=5, color='red', label='Outside Circle')\n",
    "plt.title(f\"Monte Carlo π Estimate\\nN={N}, π ≈ {pi_val:.5f}\")\n",
    "plt.xlabel('x')\n",
    "plt.ylabel('y')\n",
    "plt.legend()\n",
    "plt.axis('equal')\n",
    "plt.grid(True)\n",
    "plt.show()"
   ]
  },
  {
   "cell_type": "markdown",
   "id": "264dc904",
   "metadata": {},
   "source": [
    "## Exercise 3: Distribution of π Estimates (Histogram)"
   ]
  },
  {
   "cell_type": "code",
   "execution_count": null,
   "id": "0dfba165",
   "metadata": {},
   "outputs": [],
   "source": [
    "# Reuse get_pi_and_points to obtain only π estimates\n",
    "def get_pi(N):\n",
    "    pi, *_ = get_pi_and_points(N)\n",
    "    return pi"
   ]
  },
  {
   "cell_type": "code",
   "execution_count": null,
   "id": "d5af92f5",
   "metadata": {},
   "outputs": [],
   "source": [
    "pi_samples = [get_pi(10000) for _ in range(100)]\n",
    "plt.hist(pi_samples, bins=10, rwidth=0.8)\n",
    "plt.xlim(2.7, 3.6)\n",
    "plt.ylim(0, 30)\n",
    "plt.title(\"Histogram of π estimates (100 samples, N=10000)\")\n",
    "plt.xlabel(\"Estimated π\")\n",
    "plt.ylabel(\"Frequency\")\n",
    "plt.grid(True)\n",
    "plt.show()"
   ]
  }
 ],
 "metadata": {},
 "nbformat": 4,
 "nbformat_minor": 5
}
